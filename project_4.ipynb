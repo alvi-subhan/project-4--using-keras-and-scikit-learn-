{
  "nbformat": 4,
  "nbformat_minor": 0,
  "metadata": {
    "colab": {
      "name": "project 4.ipynb",
      "version": "0.3.2",
      "views": {},
      "default_view": {},
      "provenance": []
    },
    "kernelspec": {
      "name": "python3",
      "display_name": "Python 3"
    }
  },
  "cells": [
    {
      "metadata": {
        "id": "In4OmX7Wx6o7",
        "colab_type": "text"
      },
      "cell_type": "markdown",
      "source": [
        "**Step 1. Description of the Dataset\n",
        "**\n",
        "The dataset we will use in this tutorial is the Sonar dataset.\n",
        "\n",
        "This is a dataset that describes sonar chirp returns bouncing off different services. The 60 input variables are the strength of the returns at different angles. It is a binary classification problem that requires a model to differentiate rocks from metal cylinders.\n"
      ]
    },
    {
      "metadata": {
        "id": "2CZK66nBysuR",
        "colab_type": "text"
      },
      "cell_type": "markdown",
      "source": [
        "**Step 2: Dropout Regularization For Neural Networks\n",
        "**\n",
        "Dropout is a regularization technique for neural network models proposed by Srivastava, et al. in their 2014 paper Dropout: \n",
        "\n",
        "A Simple Way to Prevent Neural Networks from Overfitting:\n",
        "http://jmlr.org/papers/v15/srivastava14a.html\n",
        "\n",
        "You can download the PDF from here:\n",
        "http://jmlr.org/papers/volume15/srivastava14a/srivastava14a.pdf \n"
      ]
    },
    {
      "metadata": {
        "id": "6kWlLJ0Py0XR",
        "colab_type": "text"
      },
      "cell_type": "markdown",
      "source": [
        "**Step 3: Dropout Regularization in Keras\n",
        "**"
      ]
    },
    {
      "metadata": {
        "id": "qNSqGKGCyz9h",
        "colab_type": "code",
        "colab": {
          "autoexec": {
            "startup": false,
            "wait_interval": 0
          },
          "base_uri": "https://localhost:8080/",
          "height": 35
        },
        "outputId": "38074533-bbd4-49b8-8725-c5db78bfce31",
        "executionInfo": {
          "status": "ok",
          "timestamp": 1530877071919,
          "user_tz": -300,
          "elapsed": 3131,
          "user": {
            "displayName": "subhan alvi",
            "photoUrl": "https://lh3.googleusercontent.com/a/default-user=s128",
            "userId": "113587175888217063825"
          }
        }
      },
      "cell_type": "code",
      "source": [
        "# Baseline Model on the Sonar Dataset\n",
        "import numpy\n",
        "from pandas import read_csv\n",
        "from keras.models import Sequential\n",
        "from keras.layers import Dense\n",
        "from keras.layers import Dropout\n",
        "from keras.wrappers.scikit_learn import KerasClassifier\n",
        "from keras.constraints import maxnorm\n",
        "from keras.optimizers import SGD\n",
        "from sklearn.model_selection import cross_val_score\n",
        "from sklearn.preprocessing import LabelEncoder\n",
        "from sklearn.model_selection import StratifiedKFold\n",
        "from sklearn.preprocessing import StandardScaler\n",
        "from sklearn.pipeline import Pipeline"
      ],
      "execution_count": 1,
      "outputs": [
        {
          "output_type": "stream",
          "text": [
            "Using TensorFlow backend.\n"
          ],
          "name": "stderr"
        }
      ]
    },
    {
      "metadata": {
        "id": "AizFXSHStH6A",
        "colab_type": "code",
        "colab": {
          "autoexec": {
            "startup": false,
            "wait_interval": 0
          },
          "base_uri": "https://localhost:8080/",
          "height": 17
        },
        "outputId": "226eed4e-b1b4-42af-bdda-431ce64deae8",
        "executionInfo": {
          "status": "ok",
          "timestamp": 1530877083638,
          "user_tz": -300,
          "elapsed": 843,
          "user": {
            "displayName": "subhan alvi",
            "photoUrl": "https://lh3.googleusercontent.com/a/default-user=s128",
            "userId": "113587175888217063825"
          }
        }
      },
      "cell_type": "code",
      "source": [
        "# fix random seed for reproducibility\n",
        "seed = 7\n",
        "numpy.random.seed(seed)"
      ],
      "execution_count": 2,
      "outputs": []
    },
    {
      "metadata": {
        "id": "4N8btCCwy9tM",
        "colab_type": "code",
        "colab": {
          "autoexec": {
            "startup": false,
            "wait_interval": 0
          },
          "base_uri": "https://localhost:8080/",
          "height": 73
        },
        "outputId": "7014279a-7baa-445b-ae9f-bccaf42a48ef",
        "executionInfo": {
          "status": "ok",
          "timestamp": 1530877099481,
          "user_tz": -300,
          "elapsed": 14541,
          "user": {
            "displayName": "subhan alvi",
            "photoUrl": "https://lh3.googleusercontent.com/a/default-user=s128",
            "userId": "113587175888217063825"
          }
        }
      },
      "cell_type": "code",
      "source": [
        "#uploading csv file\n",
        "\n",
        "from google.colab import files\n",
        "uploaded = files.upload()"
      ],
      "execution_count": 3,
      "outputs": [
        {
          "output_type": "display_data",
          "data": {
            "text/html": [
              "\n",
              "     <input type=\"file\" id=\"files-47033a16-9f95-4b9a-91de-08db12e63295\" name=\"files[]\" multiple disabled />\n",
              "     <output id=\"result-47033a16-9f95-4b9a-91de-08db12e63295\">\n",
              "      Upload widget is only available when the cell has been executed in the\n",
              "      current browser session. Please rerun this cell to enable.\n",
              "      </output>\n",
              "      <script src=\"/nbextensions/google.colab/files.js\"></script> "
            ],
            "text/plain": [
              "<IPython.core.display.HTML object>"
            ]
          },
          "metadata": {
            "tags": []
          }
        },
        {
          "output_type": "stream",
          "text": [
            "Saving sonar.csv to sonar.csv\n"
          ],
          "name": "stdout"
        }
      ]
    },
    {
      "metadata": {
        "id": "42zlZYd-zKtU",
        "colab_type": "code",
        "colab": {
          "autoexec": {
            "startup": false,
            "wait_interval": 0
          },
          "base_uri": "https://localhost:8080/",
          "height": 17
        },
        "outputId": "3bc785c9-b694-4228-94a8-35ba2431873a",
        "executionInfo": {
          "status": "ok",
          "timestamp": 1530877103739,
          "user_tz": -300,
          "elapsed": 821,
          "user": {
            "displayName": "subhan alvi",
            "photoUrl": "https://lh3.googleusercontent.com/a/default-user=s128",
            "userId": "113587175888217063825"
          }
        }
      },
      "cell_type": "code",
      "source": [
        "#Importing file\n",
        "\n",
        "import io\n",
        "data = io.BytesIO(uploaded['sonar.csv'])"
      ],
      "execution_count": 4,
      "outputs": []
    },
    {
      "metadata": {
        "id": "DrCbJOiUzQ59",
        "colab_type": "code",
        "colab": {
          "autoexec": {
            "startup": false,
            "wait_interval": 0
          },
          "base_uri": "https://localhost:8080/",
          "height": 17
        },
        "outputId": "f0a4fad8-94b7-4688-d52b-f33b3462e3e0",
        "executionInfo": {
          "status": "ok",
          "timestamp": 1530877104976,
          "user_tz": -300,
          "elapsed": 807,
          "user": {
            "displayName": "subhan alvi",
            "photoUrl": "https://lh3.googleusercontent.com/a/default-user=s128",
            "userId": "113587175888217063825"
          }
        }
      },
      "cell_type": "code",
      "source": [
        "# load dataset\n",
        "dataframe = read_csv(\"sonar.csv\", header=None)\n",
        "dataset = dataframe.values\n",
        "# split into input (X) and output (Y) variables\n",
        "X = dataset[:,0:60].astype(float)\n",
        "Y = dataset[:,60]\n"
      ],
      "execution_count": 5,
      "outputs": []
    },
    {
      "metadata": {
        "id": "LwESFsNXzUtw",
        "colab_type": "code",
        "colab": {
          "autoexec": {
            "startup": false,
            "wait_interval": 0
          },
          "base_uri": "https://localhost:8080/",
          "height": 17
        },
        "outputId": "6e044a24-86ac-451e-c6e2-d01ce5653510",
        "executionInfo": {
          "status": "ok",
          "timestamp": 1530877106109,
          "user_tz": -300,
          "elapsed": 919,
          "user": {
            "displayName": "subhan alvi",
            "photoUrl": "https://lh3.googleusercontent.com/a/default-user=s128",
            "userId": "113587175888217063825"
          }
        }
      },
      "cell_type": "code",
      "source": [
        "# encode class values as integers\n",
        "encoder = LabelEncoder()\n",
        "encoder.fit(Y)\n",
        "encoded_Y = encoder.transform(Y)\n"
      ],
      "execution_count": 6,
      "outputs": []
    },
    {
      "metadata": {
        "id": "qAkUXFtizW3l",
        "colab_type": "code",
        "colab": {
          "autoexec": {
            "startup": false,
            "wait_interval": 0
          },
          "base_uri": "https://localhost:8080/",
          "height": 247
        },
        "outputId": "81105d4c-95c4-4c54-d6c5-9d6fc1d19c37",
        "executionInfo": {
          "status": "ok",
          "timestamp": 1530877107511,
          "user_tz": -300,
          "elapsed": 975,
          "user": {
            "displayName": "subhan alvi",
            "photoUrl": "https://lh3.googleusercontent.com/a/default-user=s128",
            "userId": "113587175888217063825"
          }
        }
      },
      "cell_type": "code",
      "source": [
        "dataframe[:5]"
      ],
      "execution_count": 7,
      "outputs": [
        {
          "output_type": "execute_result",
          "data": {
            "text/html": [
              "<div>\n",
              "<style scoped>\n",
              "    .dataframe tbody tr th:only-of-type {\n",
              "        vertical-align: middle;\n",
              "    }\n",
              "\n",
              "    .dataframe tbody tr th {\n",
              "        vertical-align: top;\n",
              "    }\n",
              "\n",
              "    .dataframe thead th {\n",
              "        text-align: right;\n",
              "    }\n",
              "</style>\n",
              "<table border=\"1\" class=\"dataframe\">\n",
              "  <thead>\n",
              "    <tr style=\"text-align: right;\">\n",
              "      <th></th>\n",
              "      <th>0</th>\n",
              "      <th>1</th>\n",
              "      <th>2</th>\n",
              "      <th>3</th>\n",
              "      <th>4</th>\n",
              "      <th>5</th>\n",
              "      <th>6</th>\n",
              "      <th>7</th>\n",
              "      <th>8</th>\n",
              "      <th>9</th>\n",
              "      <th>...</th>\n",
              "      <th>51</th>\n",
              "      <th>52</th>\n",
              "      <th>53</th>\n",
              "      <th>54</th>\n",
              "      <th>55</th>\n",
              "      <th>56</th>\n",
              "      <th>57</th>\n",
              "      <th>58</th>\n",
              "      <th>59</th>\n",
              "      <th>60</th>\n",
              "    </tr>\n",
              "  </thead>\n",
              "  <tbody>\n",
              "    <tr>\n",
              "      <th>0</th>\n",
              "      <td>0.0200</td>\n",
              "      <td>0.0371</td>\n",
              "      <td>0.0428</td>\n",
              "      <td>0.0207</td>\n",
              "      <td>0.0954</td>\n",
              "      <td>0.0986</td>\n",
              "      <td>0.1539</td>\n",
              "      <td>0.1601</td>\n",
              "      <td>0.3109</td>\n",
              "      <td>0.2111</td>\n",
              "      <td>...</td>\n",
              "      <td>0.0027</td>\n",
              "      <td>0.0065</td>\n",
              "      <td>0.0159</td>\n",
              "      <td>0.0072</td>\n",
              "      <td>0.0167</td>\n",
              "      <td>0.0180</td>\n",
              "      <td>0.0084</td>\n",
              "      <td>0.0090</td>\n",
              "      <td>0.0032</td>\n",
              "      <td>R</td>\n",
              "    </tr>\n",
              "    <tr>\n",
              "      <th>1</th>\n",
              "      <td>0.0453</td>\n",
              "      <td>0.0523</td>\n",
              "      <td>0.0843</td>\n",
              "      <td>0.0689</td>\n",
              "      <td>0.1183</td>\n",
              "      <td>0.2583</td>\n",
              "      <td>0.2156</td>\n",
              "      <td>0.3481</td>\n",
              "      <td>0.3337</td>\n",
              "      <td>0.2872</td>\n",
              "      <td>...</td>\n",
              "      <td>0.0084</td>\n",
              "      <td>0.0089</td>\n",
              "      <td>0.0048</td>\n",
              "      <td>0.0094</td>\n",
              "      <td>0.0191</td>\n",
              "      <td>0.0140</td>\n",
              "      <td>0.0049</td>\n",
              "      <td>0.0052</td>\n",
              "      <td>0.0044</td>\n",
              "      <td>R</td>\n",
              "    </tr>\n",
              "    <tr>\n",
              "      <th>2</th>\n",
              "      <td>0.0262</td>\n",
              "      <td>0.0582</td>\n",
              "      <td>0.1099</td>\n",
              "      <td>0.1083</td>\n",
              "      <td>0.0974</td>\n",
              "      <td>0.2280</td>\n",
              "      <td>0.2431</td>\n",
              "      <td>0.3771</td>\n",
              "      <td>0.5598</td>\n",
              "      <td>0.6194</td>\n",
              "      <td>...</td>\n",
              "      <td>0.0232</td>\n",
              "      <td>0.0166</td>\n",
              "      <td>0.0095</td>\n",
              "      <td>0.0180</td>\n",
              "      <td>0.0244</td>\n",
              "      <td>0.0316</td>\n",
              "      <td>0.0164</td>\n",
              "      <td>0.0095</td>\n",
              "      <td>0.0078</td>\n",
              "      <td>R</td>\n",
              "    </tr>\n",
              "    <tr>\n",
              "      <th>3</th>\n",
              "      <td>0.0100</td>\n",
              "      <td>0.0171</td>\n",
              "      <td>0.0623</td>\n",
              "      <td>0.0205</td>\n",
              "      <td>0.0205</td>\n",
              "      <td>0.0368</td>\n",
              "      <td>0.1098</td>\n",
              "      <td>0.1276</td>\n",
              "      <td>0.0598</td>\n",
              "      <td>0.1264</td>\n",
              "      <td>...</td>\n",
              "      <td>0.0121</td>\n",
              "      <td>0.0036</td>\n",
              "      <td>0.0150</td>\n",
              "      <td>0.0085</td>\n",
              "      <td>0.0073</td>\n",
              "      <td>0.0050</td>\n",
              "      <td>0.0044</td>\n",
              "      <td>0.0040</td>\n",
              "      <td>0.0117</td>\n",
              "      <td>R</td>\n",
              "    </tr>\n",
              "    <tr>\n",
              "      <th>4</th>\n",
              "      <td>0.0762</td>\n",
              "      <td>0.0666</td>\n",
              "      <td>0.0481</td>\n",
              "      <td>0.0394</td>\n",
              "      <td>0.0590</td>\n",
              "      <td>0.0649</td>\n",
              "      <td>0.1209</td>\n",
              "      <td>0.2467</td>\n",
              "      <td>0.3564</td>\n",
              "      <td>0.4459</td>\n",
              "      <td>...</td>\n",
              "      <td>0.0031</td>\n",
              "      <td>0.0054</td>\n",
              "      <td>0.0105</td>\n",
              "      <td>0.0110</td>\n",
              "      <td>0.0015</td>\n",
              "      <td>0.0072</td>\n",
              "      <td>0.0048</td>\n",
              "      <td>0.0107</td>\n",
              "      <td>0.0094</td>\n",
              "      <td>R</td>\n",
              "    </tr>\n",
              "  </tbody>\n",
              "</table>\n",
              "<p>5 rows × 61 columns</p>\n",
              "</div>"
            ],
            "text/plain": [
              "       0       1       2       3       4       5       6       7       8   \\\n",
              "0  0.0200  0.0371  0.0428  0.0207  0.0954  0.0986  0.1539  0.1601  0.3109   \n",
              "1  0.0453  0.0523  0.0843  0.0689  0.1183  0.2583  0.2156  0.3481  0.3337   \n",
              "2  0.0262  0.0582  0.1099  0.1083  0.0974  0.2280  0.2431  0.3771  0.5598   \n",
              "3  0.0100  0.0171  0.0623  0.0205  0.0205  0.0368  0.1098  0.1276  0.0598   \n",
              "4  0.0762  0.0666  0.0481  0.0394  0.0590  0.0649  0.1209  0.2467  0.3564   \n",
              "\n",
              "       9  ...      51      52      53      54      55      56      57      58  \\\n",
              "0  0.2111 ...  0.0027  0.0065  0.0159  0.0072  0.0167  0.0180  0.0084  0.0090   \n",
              "1  0.2872 ...  0.0084  0.0089  0.0048  0.0094  0.0191  0.0140  0.0049  0.0052   \n",
              "2  0.6194 ...  0.0232  0.0166  0.0095  0.0180  0.0244  0.0316  0.0164  0.0095   \n",
              "3  0.1264 ...  0.0121  0.0036  0.0150  0.0085  0.0073  0.0050  0.0044  0.0040   \n",
              "4  0.4459 ...  0.0031  0.0054  0.0105  0.0110  0.0015  0.0072  0.0048  0.0107   \n",
              "\n",
              "       59  60  \n",
              "0  0.0032   R  \n",
              "1  0.0044   R  \n",
              "2  0.0078   R  \n",
              "3  0.0117   R  \n",
              "4  0.0094   R  \n",
              "\n",
              "[5 rows x 61 columns]"
            ]
          },
          "metadata": {
            "tags": []
          },
          "execution_count": 7
        }
      ]
    },
    {
      "metadata": {
        "id": "tgdiYMlFzagY",
        "colab_type": "code",
        "colab": {
          "autoexec": {
            "startup": false,
            "wait_interval": 0
          },
          "base_uri": "https://localhost:8080/",
          "height": 17
        },
        "outputId": "1cd24ffa-8a3d-4117-ab25-098d3576844c",
        "executionInfo": {
          "status": "ok",
          "timestamp": 1530877108629,
          "user_tz": -300,
          "elapsed": 824,
          "user": {
            "displayName": "subhan alvi",
            "photoUrl": "https://lh3.googleusercontent.com/a/default-user=s128",
            "userId": "113587175888217063825"
          }
        }
      },
      "cell_type": "code",
      "source": [
        "# encode class values as integers\n",
        "encoder = LabelEncoder()\n",
        "encoder.fit(Y)\n",
        "encoded_Y = encoder.transform(Y)\n"
      ],
      "execution_count": 8,
      "outputs": []
    },
    {
      "metadata": {
        "id": "ixGRLP2Rz7hW",
        "colab_type": "code",
        "colab": {
          "autoexec": {
            "startup": false,
            "wait_interval": 0
          },
          "base_uri": "https://localhost:8080/",
          "height": 35
        },
        "outputId": "6ae6744d-0797-4681-fb09-9362321bb770",
        "executionInfo": {
          "status": "ok",
          "timestamp": 1530877109727,
          "user_tz": -300,
          "elapsed": 819,
          "user": {
            "displayName": "subhan alvi",
            "photoUrl": "https://lh3.googleusercontent.com/a/default-user=s128",
            "userId": "113587175888217063825"
          }
        }
      },
      "cell_type": "code",
      "source": [
        "encoded_Y[:5]"
      ],
      "execution_count": 9,
      "outputs": [
        {
          "output_type": "execute_result",
          "data": {
            "text/plain": [
              "array([1, 1, 1, 1, 1])"
            ]
          },
          "metadata": {
            "tags": []
          },
          "execution_count": 9
        }
      ]
    },
    {
      "metadata": {
        "id": "4IXmbKrez-_S",
        "colab_type": "code",
        "colab": {
          "autoexec": {
            "startup": false,
            "wait_interval": 0
          },
          "base_uri": "https://localhost:8080/",
          "height": 17
        },
        "outputId": "90eab398-2c47-433a-8f15-b7eb5d541a09",
        "executionInfo": {
          "status": "ok",
          "timestamp": 1530877111406,
          "user_tz": -300,
          "elapsed": 1428,
          "user": {
            "displayName": "subhan alvi",
            "photoUrl": "https://lh3.googleusercontent.com/a/default-user=s128",
            "userId": "113587175888217063825"
          }
        }
      },
      "cell_type": "code",
      "source": [
        "# baseline\n",
        "def create_baseline():\n",
        "\t# create model\n",
        "\tmodel = Sequential()\n",
        "\tmodel.add(Dense(60, input_dim=60, kernel_initializer='normal', activation='relu'))\n",
        "\tmodel.add(Dense(30, kernel_initializer='normal', activation='relu'))\n",
        "\tmodel.add(Dense(1, kernel_initializer='normal', activation='sigmoid'))\n",
        "\t# Compile model\n",
        "\tsgd = SGD(lr=0.01, momentum=0.8, decay=0.0, nesterov=False)\n",
        "\tmodel.compile(loss='binary_crossentropy', optimizer=sgd, metrics=['accuracy'])\n",
        "\treturn model\n"
      ],
      "execution_count": 10,
      "outputs": []
    },
    {
      "metadata": {
        "id": "6JXwush30jNB",
        "colab_type": "code",
        "colab": {
          "autoexec": {
            "startup": false,
            "wait_interval": 0
          },
          "base_uri": "https://localhost:8080/",
          "height": 34
        },
        "outputId": "c4b80aa6-44a4-4b60-9116-9bba222e4069",
        "executionInfo": {
          "status": "ok",
          "timestamp": 1530800896479,
          "user_tz": -300,
          "elapsed": 57843,
          "user": {
            "displayName": "subhan alvi",
            "photoUrl": "https://lh3.googleusercontent.com/a/default-user=s128",
            "userId": "113587175888217063825"
          }
        }
      },
      "cell_type": "code",
      "source": [
        "numpy.random.seed(seed)\n",
        "estimators = []\n",
        "estimators.append(('standardize', StandardScaler()))\n",
        "estimators.append(('mlp', KerasClassifier(build_fn=create_baseline, epochs=300, batch_size=16, verbose=0)))\n",
        "pipeline = Pipeline(estimators)\n",
        "kfold = StratifiedKFold(n_splits=10, shuffle=True, random_state=seed)\n",
        "results = cross_val_score(pipeline, X, encoded_Y, cv=kfold)\n",
        "print(\"Baseline: %.2f%% (%.2f%%)\" % (results.mean()*100, results.std()*100))\n"
      ],
      "execution_count": 13,
      "outputs": [
        {
          "output_type": "stream",
          "text": [
            "Baseline: 82.14% (7.30%)\n"
          ],
          "name": "stdout"
        }
      ]
    },
    {
      "metadata": {
        "id": "Z9YSrRxK1z4G",
        "colab_type": "text"
      },
      "cell_type": "markdown",
      "source": [
        "**Step 4: Using Dropout on the Visible Layer\n",
        "**"
      ]
    },
    {
      "metadata": {
        "id": "QnofhR4l1Loe",
        "colab_type": "code",
        "colab": {
          "autoexec": {
            "startup": false,
            "wait_interval": 0
          },
          "base_uri": "https://localhost:8080/",
          "height": 35
        },
        "outputId": "123783c3-7dcc-46e8-b75d-70dcc144dd74",
        "executionInfo": {
          "status": "ok",
          "timestamp": 1530886414287,
          "user_tz": -300,
          "elapsed": 193599,
          "user": {
            "displayName": "subhan alvi",
            "photoUrl": "https://lh3.googleusercontent.com/a/default-user=s128",
            "userId": "113587175888217063825"
          }
        }
      },
      "cell_type": "code",
      "source": [
        "# dropout in the input layer with weight constraint\n",
        "def create_model():\n",
        "\t# create model\n",
        "\tmodel = Sequential()\n",
        "\tmodel.add(Dropout(0.2, input_shape=(60,)))\n",
        "\tmodel.add(Dense(60, kernel_initializer='normal', activation='relu', kernel_constraint=maxnorm(3)))\n",
        "\tmodel.add(Dense(30, kernel_initializer='normal', activation='relu', kernel_constraint=maxnorm(3)))\n",
        "\tmodel.add(Dense(1, kernel_initializer='normal', activation='sigmoid'))\n",
        "\t# Compile model\n",
        "\tsgd = SGD(lr=0.1, momentum=0.9, decay=0.0, nesterov=False)\n",
        "\tmodel.compile(loss='binary_crossentropy', optimizer=sgd, metrics=['accuracy'])\n",
        "\treturn model\n",
        "\n",
        "numpy.random.seed(seed)\n",
        "estimators = []\n",
        "estimators.append(('standardize', StandardScaler()))\n",
        "estimators.append(('mlp', KerasClassifier(build_fn=create_model, epochs=300, batch_size=16, verbose=0)))\n",
        "pipeline = Pipeline(estimators)\n",
        "kfold = StratifiedKFold(n_splits=10, shuffle=True, random_state=seed)\n",
        "results = cross_val_score(pipeline, X, encoded_Y, cv=kfold)\n",
        "print(\"Visible: %.2f%% (%.2f%%)\" % (results.mean()*100, results.std()*100))"
      ],
      "execution_count": 34,
      "outputs": [
        {
          "output_type": "stream",
          "text": [
            "Visible: 84.18% (6.72%)\n"
          ],
          "name": "stdout"
        }
      ]
    },
    {
      "metadata": {
        "id": "8dW2JwspL0GK",
        "colab_type": "text"
      },
      "cell_type": "markdown",
      "source": [
        "**Step 5: Trying to Improve Performance\n",
        "**"
      ]
    },
    {
      "metadata": {
        "id": "aDYbIEIlK19B",
        "colab_type": "code",
        "colab": {
          "autoexec": {
            "startup": false,
            "wait_interval": 0
          },
          "base_uri": "https://localhost:8080/",
          "height": 35
        },
        "outputId": "38103f39-e43b-4a8b-8231-0d3fe825f095",
        "executionInfo": {
          "status": "ok",
          "timestamp": 1530886735333,
          "user_tz": -300,
          "elapsed": 232574,
          "user": {
            "displayName": "subhan alvi",
            "photoUrl": "https://lh3.googleusercontent.com/a/default-user=s128",
            "userId": "113587175888217063825"
          }
        }
      },
      "cell_type": "code",
      "source": [
        "# dropout in the input layer with weight constraint\n",
        "def create_model():\n",
        "\t# create model\n",
        "\tmodel = Sequential()\n",
        "\tmodel.add(Dropout(0.2, input_shape=(60,)))\n",
        "\tmodel.add(Dense(60, kernel_initializer='normal', activation='relu', kernel_constraint=maxnorm(3)))\n",
        "\tmodel.add(Dense(30, kernel_initializer='normal', activation='relu', kernel_constraint=maxnorm(3)))\n",
        "\tmodel.add(Dense(1, kernel_initializer='normal', activation='sigmoid'))\n",
        "\t# Compile model\n",
        "\tsgd = SGD(lr=0.1, momentum=0.9, decay=0.0, nesterov=False)\n",
        "\tmodel.compile(loss='binary_crossentropy', optimizer=sgd, metrics=['accuracy'])\n",
        "\treturn model\n",
        "\n",
        "numpy.random.seed(seed)\n",
        "estimators = []\n",
        "estimators.append(('standardize', StandardScaler()))\n",
        "estimators.append(('mlp', KerasClassifier(build_fn=create_model, epochs=400, batch_size=16, verbose=0)))\n",
        "pipeline = Pipeline(estimators)\n",
        "kfold = StratifiedKFold(n_splits=10, shuffle=True, random_state=seed)\n",
        "results = cross_val_score(pipeline, X, encoded_Y, cv=kfold)\n",
        "print(\"Visible: %.2f%% (%.2f%%)\" % (results.mean()*100, results.std()*100))"
      ],
      "execution_count": 35,
      "outputs": [
        {
          "output_type": "stream",
          "text": [
            "Visible: 84.56% (7.26%)\n"
          ],
          "name": "stdout"
        }
      ]
    },
    {
      "metadata": {
        "id": "FDCLy2TSMV2c",
        "colab_type": "text"
      },
      "cell_type": "markdown",
      "source": [
        "**PERFORMANCE OF MODEL USING DIFFERENT VALUES OF PARAMETERS**\n",
        " \n",
        " in step 4 we have achieved the accuracy of 84.18 with 20% dropout and 300 epochs while in the above step we have used 400 epochs and the dropout rate is the same as in previous the accuracy we get is  84.56%.\n"
      ]
    },
    {
      "metadata": {
        "id": "EHYOO2_rQPV6",
        "colab_type": "text"
      },
      "cell_type": "markdown",
      "source": [
        "**Step 6: Using Dropout on Hidden Layers\n",
        "**"
      ]
    },
    {
      "metadata": {
        "id": "MOXQO-N6MBPb",
        "colab_type": "code",
        "colab": {
          "autoexec": {
            "startup": false,
            "wait_interval": 0
          },
          "base_uri": "https://localhost:8080/",
          "height": 35
        },
        "outputId": "b4a15028-a664-4d52-f9ed-5c4dbb9a4803",
        "executionInfo": {
          "status": "ok",
          "timestamp": 1530887122410,
          "user_tz": -300,
          "elapsed": 220128,
          "user": {
            "displayName": "subhan alvi",
            "photoUrl": "https://lh3.googleusercontent.com/a/default-user=s128",
            "userId": "113587175888217063825"
          }
        }
      },
      "cell_type": "code",
      "source": [
        "def create_model():\n",
        "\t# create model\n",
        "\tmodel = Sequential()\n",
        "\tmodel.add(Dense(60, input_dim=60, kernel_initializer='normal', activation='relu', kernel_constraint=maxnorm(3)))\n",
        "\tmodel.add(Dropout(0.2))\n",
        "\tmodel.add(Dense(30, kernel_initializer='normal', activation='relu', kernel_constraint=maxnorm(3)))\n",
        "\tmodel.add(Dropout(0.2))\n",
        "\tmodel.add(Dense(1, kernel_initializer='normal', activation='sigmoid'))\n",
        "\t# Compile model\n",
        "\tsgd = SGD(lr=0.1, momentum=0.9, decay=0.0, nesterov=False)\n",
        "\tmodel.compile(loss='binary_crossentropy', optimizer=sgd, metrics=['accuracy'])\n",
        "\treturn model\n",
        "\n",
        "numpy.random.seed(seed)\n",
        "estimators = []\n",
        "estimators.append(('standardize', StandardScaler()))\n",
        "estimators.append(('mlp', KerasClassifier(build_fn=create_model, epochs=300, batch_size=16, verbose=0)))\n",
        "pipeline = Pipeline(estimators)\n",
        "kfold = StratifiedKFold(n_splits=10, shuffle=True, random_state=seed)\n",
        "results = cross_val_score(pipeline, X, encoded_Y, cv=kfold)\n",
        "print(\"Hidden: %.2f%% (%.2f%%)\" % (results.mean()*100, results.std()*100))"
      ],
      "execution_count": 39,
      "outputs": [
        {
          "output_type": "stream",
          "text": [
            "Hidden: 81.25% (4.44%)\n"
          ],
          "name": "stdout"
        }
      ]
    },
    {
      "metadata": {
        "id": "qEiWX6BoouWv",
        "colab_type": "text"
      },
      "cell_type": "markdown",
      "source": [
        "**Step 7: Trying to Improve Performance\n",
        "**"
      ]
    },
    {
      "metadata": {
        "id": "iBaY8ZqIkzFW",
        "colab_type": "code",
        "colab": {
          "autoexec": {
            "startup": false,
            "wait_interval": 0
          },
          "base_uri": "https://localhost:8080/",
          "height": 35
        },
        "outputId": "5a2f99fd-4216-41ad-df1b-47afc59ac502",
        "executionInfo": {
          "status": "ok",
          "timestamp": 1530891071685,
          "user_tz": -300,
          "elapsed": 331243,
          "user": {
            "displayName": "subhan alvi",
            "photoUrl": "https://lh3.googleusercontent.com/a/default-user=s128",
            "userId": "113587175888217063825"
          }
        }
      },
      "cell_type": "code",
      "source": [
        "def create_model():\n",
        "\t# create model\n",
        "\tmodel = Sequential()\n",
        "\tmodel.add(Dense(60, input_dim=60, kernel_initializer='normal', activation='relu', kernel_constraint=maxnorm(3)))\n",
        "\tmodel.add(Dropout(0.3))\n",
        "\tmodel.add(Dense(30, kernel_initializer='normal', activation='relu', kernel_constraint=maxnorm(3)))\n",
        "\tmodel.add(Dropout(0.3))\n",
        "\tmodel.add(Dense(1, kernel_initializer='normal', activation='sigmoid'))\n",
        "\t# Compile model\n",
        "\tsgd = SGD(lr=0.1, momentum=0.8, decay=0.0, nesterov=False)\n",
        "\tmodel.compile(loss='binary_crossentropy', optimizer=sgd, metrics=['accuracy'])\n",
        "\treturn model\n",
        "\n",
        "numpy.random.seed(seed)\n",
        "estimators = []\n",
        "estimators.append(('standardize', StandardScaler()))\n",
        "estimators.append(('mlp', KerasClassifier(build_fn=create_model, epochs=400, batch_size=16, verbose=0)))\n",
        "pipeline = Pipeline(estimators)\n",
        "kfold = StratifiedKFold(n_splits=10, shuffle=True, random_state=seed)\n",
        "results = cross_val_score(pipeline, X, encoded_Y, cv=kfold)\n",
        "print(\"Hidden: %.2f%% (%.2f%%)\" % (results.mean()*100, results.std()*100))"
      ],
      "execution_count": 42,
      "outputs": [
        {
          "output_type": "stream",
          "text": [
            "Hidden: 83.11% (5.95%)\n"
          ],
          "name": "stdout"
        }
      ]
    },
    {
      "metadata": {
        "id": "OVV27rghLDQP",
        "colab_type": "text"
      },
      "cell_type": "markdown",
      "source": [
        "\n",
        "1.   epochs=400,dropout=0.2,lr=0.1 and momentum=0.9 =>acc=80%\n",
        "2.   epochs=400,dropout=0.3,lr=0.1 and momentum=0.8=>acc=83.11%\n",
        "\n"
      ]
    },
    {
      "metadata": {
        "id": "A05toN6SMjkV",
        "colab_type": "text"
      },
      "cell_type": "markdown",
      "source": [
        "**Step 8.1: Try Different Dropout values\n",
        "**"
      ]
    },
    {
      "metadata": {
        "id": "C6-0-HL7LCor",
        "colab_type": "code",
        "colab": {
          "autoexec": {
            "startup": false,
            "wait_interval": 0
          },
          "base_uri": "https://localhost:8080/",
          "height": 35
        },
        "outputId": "678e172d-bf4b-4cb1-f877-a8ed2a6a3cdd",
        "executionInfo": {
          "status": "ok",
          "timestamp": 1530891386059,
          "user_tz": -300,
          "elapsed": 279283,
          "user": {
            "displayName": "subhan alvi",
            "photoUrl": "https://lh3.googleusercontent.com/a/default-user=s128",
            "userId": "113587175888217063825"
          }
        }
      },
      "cell_type": "code",
      "source": [
        "#dropout=0.3\n",
        "\n",
        "def create_model():\n",
        "\t# create model\n",
        "\tmodel = Sequential()\n",
        "\tmodel.add(Dense(60, input_dim=60, kernel_initializer='normal', activation='relu', kernel_constraint=maxnorm(3)))\n",
        "\tmodel.add(Dropout(0.3))\n",
        "\tmodel.add(Dense(30, kernel_initializer='normal', activation='relu', kernel_constraint=maxnorm(3)))\n",
        "\tmodel.add(Dropout(0.3))\n",
        "\tmodel.add(Dense(1, kernel_initializer='normal', activation='sigmoid'))\n",
        "\t# Compile model\n",
        "\tsgd = SGD(lr=0.1, momentum=0.8, decay=0.0, nesterov=False)\n",
        "\tmodel.compile(loss='binary_crossentropy', optimizer=sgd, metrics=['accuracy'])\n",
        "\treturn model\n",
        "\n",
        "numpy.random.seed(seed)\n",
        "estimators = []\n",
        "estimators.append(('standardize', StandardScaler()))\n",
        "estimators.append(('mlp', KerasClassifier(build_fn=create_model, epochs=300, batch_size=16, verbose=0)))\n",
        "pipeline = Pipeline(estimators)\n",
        "kfold = StratifiedKFold(n_splits=10, shuffle=True, random_state=seed)\n",
        "results = cross_val_score(pipeline, X, encoded_Y, cv=kfold)\n",
        "print(\"Hidden: %.2f%% (%.2f%%)\" % (results.mean()*100, results.std()*100))"
      ],
      "execution_count": 43,
      "outputs": [
        {
          "output_type": "stream",
          "text": [
            "Hidden: 80.78% (7.07%)\n"
          ],
          "name": "stdout"
        }
      ]
    },
    {
      "metadata": {
        "id": "EXobYz0FMwhs",
        "colab_type": "text"
      },
      "cell_type": "markdown",
      "source": [
        "**Step 8.2: Try using a Larger network\n",
        "**"
      ]
    },
    {
      "metadata": {
        "id": "3d0Ieo5iJkEI",
        "colab_type": "code",
        "colab": {
          "autoexec": {
            "startup": false,
            "wait_interval": 0
          },
          "base_uri": "https://localhost:8080/",
          "height": 35
        },
        "outputId": "e98fa432-403c-4333-c7fd-c2e65e738808",
        "executionInfo": {
          "status": "ok",
          "timestamp": 1530892169312,
          "user_tz": -300,
          "elapsed": 283611,
          "user": {
            "displayName": "subhan alvi",
            "photoUrl": "https://lh3.googleusercontent.com/a/default-user=s128",
            "userId": "113587175888217063825"
          }
        }
      },
      "cell_type": "code",
      "source": [
        "def create_model():\n",
        "\t# create model\n",
        "  model = Sequential()\n",
        "  \n",
        "  model.add(Dense(100, input_dim=60, kernel_initializer='normal', activation='relu', kernel_constraint=maxnorm(3)))\n",
        "  \n",
        "  model.add(Dropout(0.2))\n",
        "  model.add(Dense(60, kernel_initializer='normal', activation='relu', kernel_constraint=maxnorm(3)))\n",
        "  model.add(Dense(30, kernel_initializer='normal', activation='relu', kernel_constraint=maxnorm(3)))\n",
        "  model.add(Dropout(0.2))\n",
        "  model.add(Dense(1, kernel_initializer='normal', activation='sigmoid'))\n",
        "\t# Compile model\n",
        "  \n",
        "  sgd = SGD(lr=0.1, momentum=0.8, decay=0.0, nesterov=False)\n",
        "  model.compile(loss='binary_crossentropy', optimizer=sgd, metrics=['accuracy'])\n",
        "  \n",
        "  return model\n",
        "\n",
        "numpy.random.seed(seed)\n",
        "estimators = []\n",
        "estimators.append(('standardize', StandardScaler()))\n",
        "estimators.append(('mlp', KerasClassifier(build_fn=create_model, epochs=300, batch_size=16, verbose=0)))\n",
        "pipeline = Pipeline(estimators)\n",
        "kfold = StratifiedKFold(n_splits=10, shuffle=True, random_state=seed)\n",
        "results = cross_val_score(pipeline, X, encoded_Y, cv=kfold)\n",
        "print(\"Hidden: %.2f%% (%.2f%%)\" % (results.mean()*100, results.std()*100))"
      ],
      "execution_count": 56,
      "outputs": [
        {
          "output_type": "stream",
          "text": [
            "Hidden: 84.09% (5.03%)\n"
          ],
          "name": "stdout"
        }
      ]
    },
    {
      "metadata": {
        "id": "dRhMiYneNoXr",
        "colab_type": "text"
      },
      "cell_type": "markdown",
      "source": [
        "**Step 8.3: Try using Dropout on both visible and hidden units\n",
        "**"
      ]
    },
    {
      "metadata": {
        "id": "i7t77BWZNspk",
        "colab_type": "code",
        "colab": {
          "autoexec": {
            "startup": false,
            "wait_interval": 0
          },
          "base_uri": "https://localhost:8080/",
          "height": 35
        },
        "outputId": "791b76b9-e2c0-4e08-e55d-c68f5f40eb51",
        "executionInfo": {
          "status": "ok",
          "timestamp": 1530892867837,
          "user_tz": -300,
          "elapsed": 309678,
          "user": {
            "displayName": "subhan alvi",
            "photoUrl": "https://lh3.googleusercontent.com/a/default-user=s128",
            "userId": "113587175888217063825"
          }
        }
      },
      "cell_type": "code",
      "source": [
        "\n",
        "#dropout=0.2\n",
        "\n",
        "def create_model():\n",
        "\t# create model\n",
        "  model = Sequential()\n",
        "  model.add(Dropout(0.2, input_shape=(60,)))\n",
        "  model.add(Dense(60, input_dim=60, kernel_initializer='normal', activation='relu', kernel_constraint=maxnorm(3)))\n",
        "  model.add(Dropout(0.2))\n",
        "  model.add(Dense(30, kernel_initializer='normal', activation='relu', kernel_constraint=maxnorm(3)))\n",
        "  model.add(Dropout(0.2))\n",
        "  model.add(Dense(1, kernel_initializer='normal', activation='sigmoid'))\n",
        "\t# Compile model\n",
        "  sgd = SGD(lr=0.1, momentum=0.8, decay=0.0, nesterov=False)\n",
        "  model.compile(loss='binary_crossentropy', optimizer=sgd, metrics=['accuracy'])\n",
        "  return model\n",
        "\n",
        "numpy.random.seed(seed)\n",
        "estimators = []\n",
        "estimators.append(('standardize', StandardScaler()))\n",
        "estimators.append(('mlp', KerasClassifier(build_fn=create_model, epochs=300, batch_size=16, verbose=0)))\n",
        "pipeline = Pipeline(estimators)\n",
        "kfold = StratifiedKFold(n_splits=10, shuffle=True, random_state=seed)\n",
        "results = cross_val_score(pipeline, X, encoded_Y, cv=kfold)\n",
        "print(\"Hidden: %.2f%% (%.2f%%)\" % (results.mean()*100, results.std()*100))"
      ],
      "execution_count": 59,
      "outputs": [
        {
          "output_type": "stream",
          "text": [
            "Hidden: 87.95% (7.43%)\n"
          ],
          "name": "stdout"
        }
      ]
    },
    {
      "metadata": {
        "id": "a6cLovF1Ojm7",
        "colab_type": "text"
      },
      "cell_type": "markdown",
      "source": [
        "**Step 8.4: Try using large learning rate with decay and larger momentum\n",
        "**"
      ]
    },
    {
      "metadata": {
        "id": "H0PTSGj-OrBq",
        "colab_type": "code",
        "colab": {
          "autoexec": {
            "startup": false,
            "wait_interval": 0
          },
          "base_uri": "https://localhost:8080/",
          "height": 35
        },
        "outputId": "4fd82828-d465-4c3b-eb1c-1f545528da62",
        "executionInfo": {
          "status": "ok",
          "timestamp": 1530896889694,
          "user_tz": -300,
          "elapsed": 302472,
          "user": {
            "displayName": "subhan alvi",
            "photoUrl": "https://lh3.googleusercontent.com/a/default-user=s128",
            "userId": "113587175888217063825"
          }
        }
      },
      "cell_type": "code",
      "source": [
        "#dropout=0.3\n",
        "\n",
        "def create_model():\n",
        "\t# create model\n",
        "\tmodel = Sequential()\n",
        "\tmodel.add(Dense(60, input_dim=60, kernel_initializer='normal', activation='relu', kernel_constraint=maxnorm(3)))\n",
        "\tmodel.add(Dropout(0.3))\n",
        "\tmodel.add(Dense(30, kernel_initializer='normal', activation='relu', kernel_constraint=maxnorm(3)))\n",
        "\tmodel.add(Dropout(0.3))\n",
        "\tmodel.add(Dense(1, kernel_initializer='normal', activation='sigmoid'))\n",
        "\t# Compile model\n",
        "\tsgd = SGD(lr=0.2, momentum=0.9, decay=0.0, nesterov=False)\n",
        "\tmodel.compile(loss='binary_crossentropy', optimizer=sgd, metrics=['accuracy'])\n",
        "\treturn model\n",
        "\n",
        "numpy.random.seed(seed)\n",
        "estimators = []\n",
        "estimators.append(('standardize', StandardScaler()))\n",
        "estimators.append(('mlp', KerasClassifier(build_fn=create_model, epochs=300, batch_size=16, verbose=0)))\n",
        "pipeline = Pipeline(estimators)\n",
        "kfold = StratifiedKFold(n_splits=10, shuffle=True, random_state=seed)\n",
        "results = cross_val_score(pipeline, X, encoded_Y, cv=kfold)\n",
        "print(\"Hidden: %.2f%% (%.2f%%)\" % (results.mean()*100, results.std()*100))"
      ],
      "execution_count": 60,
      "outputs": [
        {
          "output_type": "stream",
          "text": [
            "Hidden: 55.20% (5.96%)\n"
          ],
          "name": "stdout"
        }
      ]
    },
    {
      "metadata": {
        "id": "2VvcobcgO6Tv",
        "colab_type": "text"
      },
      "cell_type": "markdown",
      "source": [
        "**Step 8.5: Try constraining the size of the network weights\n",
        "**"
      ]
    },
    {
      "metadata": {
        "id": "imBy5NVMO8o5",
        "colab_type": "code",
        "colab": {
          "autoexec": {
            "startup": false,
            "wait_interval": 0
          },
          "base_uri": "https://localhost:8080/",
          "height": 35
        },
        "outputId": "b4f35cb9-ded6-4d17-ff2b-010c23ea73f7",
        "executionInfo": {
          "status": "ok",
          "timestamp": 1530897201055,
          "user_tz": -300,
          "elapsed": 311335,
          "user": {
            "displayName": "subhan alvi",
            "photoUrl": "https://lh3.googleusercontent.com/a/default-user=s128",
            "userId": "113587175888217063825"
          }
        }
      },
      "cell_type": "code",
      "source": [
        "# dropout in the input layer with weight constraint\n",
        "def create_model():\n",
        "\t# create model\n",
        "\tmodel = Sequential()\n",
        "\tmodel.add(Dropout(0.2, input_shape=(60,)))\n",
        "\tmodel.add(Dense(60, kernel_initializer='normal', activation='relu', kernel_constraint=maxnorm(4)))\n",
        "\tmodel.add(Dense(30, kernel_initializer='normal', activation='relu', kernel_constraint=maxnorm(4)))\n",
        "\tmodel.add(Dense(1, kernel_initializer='normal', activation='sigmoid'))\n",
        "\t# Compile model\n",
        "\tsgd = SGD(lr=0.1, momentum=0.9, decay=0.0, nesterov=False)\n",
        "\tmodel.compile(loss='binary_crossentropy', optimizer=sgd, metrics=['accuracy'])\n",
        "\treturn model\n",
        "\n",
        "numpy.random.seed(seed)\n",
        "estimators = []\n",
        "estimators.append(('standardize', StandardScaler()))\n",
        "estimators.append(('mlp', KerasClassifier(build_fn=create_model, epochs=300, batch_size=16, verbose=0)))\n",
        "pipeline = Pipeline(estimators)\n",
        "kfold = StratifiedKFold(n_splits=10, shuffle=True, random_state=seed)\n",
        "results = cross_val_score(pipeline, X, encoded_Y, cv=kfold)\n",
        "print(\"Visible: %.2f%% (%.2f%%)\" % (results.mean()*100, results.std()*100))"
      ],
      "execution_count": 61,
      "outputs": [
        {
          "output_type": "stream",
          "text": [
            "Visible: 83.68% (7.76%)\n"
          ],
          "name": "stdout"
        }
      ]
    },
    {
      "metadata": {
        "id": "A24Q-inQjBEK",
        "colab_type": "code",
        "colab": {
          "autoexec": {
            "startup": false,
            "wait_interval": 0
          }
        }
      },
      "cell_type": "code",
      "source": [
        ""
      ],
      "execution_count": 0,
      "outputs": []
    }
  ]
}